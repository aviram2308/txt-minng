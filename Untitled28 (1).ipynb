{
 "cells": [
  {
   "cell_type": "markdown",
   "metadata": {},
   "source": [
    "## Text Mining of PMs' Speeches"
   ]
  },
  {
   "cell_type": "code",
   "execution_count": 1,
   "metadata": {},
   "outputs": [
    {
     "name": "stderr",
     "output_type": "stream",
     "text": [
      "Loading required package: NLP\n"
     ]
    }
   ],
   "source": [
    "#importing the text mining package tm\n",
    "library(tm)"
   ]
  },
  {
   "cell_type": "code",
   "execution_count": 2,
   "metadata": {},
   "outputs": [],
   "source": [
    "# creating a corpus of 3 documents using the following urls\n",
    "url1='https://cdn.rawgit.com/aviram2308/txt-minng/6109c23e/man2013.txt'\n",
    "url2='https://cdn.rawgit.com/aviram2308/txt-minng/6109c23e/2015mdi.txt'\n",
    "url3='https://cdn.rawgit.com/aviram2308/txt-minng/6109c23e/2017mdi.txt'\n",
    "urls=c(url1, url2, url3)"
   ]
  },
  {
   "cell_type": "code",
   "execution_count": 3,
   "metadata": {},
   "outputs": [
    {
     "name": "stderr",
     "output_type": "stream",
     "text": [
      "Warning message in FUN(X[[i]], ...):\n",
      "\"incomplete final line found on 'https://cdn.rawgit.com/aviram2308/txt-minng/6109c23e/man2013.txt'\"Warning message in FUN(X[[i]], ...):\n",
      "\"incomplete final line found on 'https://cdn.rawgit.com/aviram2308/txt-minng/6109c23e/2015mdi.txt'\"Warning message in FUN(X[[i]], ...):\n",
      "\"incomplete final line found on 'https://cdn.rawgit.com/aviram2308/txt-minng/6109c23e/2017mdi.txt'\""
     ]
    },
    {
     "name": "stdout",
     "output_type": "stream",
     "text": [
      "List of 3\n",
      " $ : chr [1:153] \"My dear fellow-citizens,\" \"\" \"Brothers, sisters and dear children,\" \"\" ...\n",
      " $ : chr [1:83] \"My dear countrymen,\" \"\" \"Today, all Indians in the country and also abroad are celebrating the festival of independence. On this day of \"| __truncated__ \"\" ...\n",
      " $ : chr [1:231] \"My dear fellow citizens,\" \"\" \"Greetings from the ramparts of the Red Fort on the auspicious occasion of Independence Day.\" \"\" ...\n"
     ]
    },
    {
     "data": {
      "text/html": [
       "'list'"
      ],
      "text/latex": [
       "'list'"
      ],
      "text/markdown": [
       "'list'"
      ],
      "text/plain": [
       "[1] \"list\""
      ]
     },
     "metadata": {},
     "output_type": "display_data"
    }
   ],
   "source": [
    "#using list apply to apply functions one by one on each element of the list\n",
    "c1=lapply(urls, FUN=readLines)\n",
    "str(c1)\n",
    "class(c1)\n"
   ]
  },
  {
   "cell_type": "code",
   "execution_count": 4,
   "metadata": {},
   "outputs": [
    {
     "name": "stdout",
     "output_type": "stream",
     "text": [
      "List of 3\n",
      " $ : chr \"My dear fellow-citizens,  Brothers, sisters and dear children,  I greet you all on this Independence Day.  Toda\"| __truncated__\n",
      " $ : chr \"My dear countrymen,  Today, all Indians in the country and also abroad are celebrating the festival of independ\"| __truncated__\n",
      " $ : chr \"My dear fellow citizens,  Greetings from the ramparts of the Red Fort on the auspicious occasion of Independenc\"| __truncated__\n"
     ]
    },
    {
     "data": {
      "text/html": [
       "'list'"
      ],
      "text/latex": [
       "'list'"
      ],
      "text/markdown": [
       "'list'"
      ],
      "text/plain": [
       "[1] \"list\""
      ]
     },
     "metadata": {},
     "output_type": "display_data"
    }
   ],
   "source": [
    "c1.2=lapply(c1, FUN= paste, collapse=\" \")\n",
    "str(c1.2)\n",
    "class(c1.2)\n"
   ]
  },
  {
   "cell_type": "code",
   "execution_count": 5,
   "metadata": {},
   "outputs": [
    {
     "name": "stdout",
     "output_type": "stream",
     "text": [
      " chr [1:3] \"My dear fellow citizens   Brothers  sisters and dear children   I greet you all on this Independence Day   Toda\"| __truncated__ ...\n"
     ]
    }
   ],
   "source": [
    "#removing punctuation using regex \\\\W\n",
    "c1.3=gsub(pattern=\"\\\\W\", replace=\" \" , c1.2)\n",
    "str(c1.3)"
   ]
  },
  {
   "cell_type": "code",
   "execution_count": 6,
   "metadata": {},
   "outputs": [
    {
     "name": "stdout",
     "output_type": "stream",
     "text": [
      " chr [1:3] \"My dear fellow citizens   Brothers  sisters and dear children   I greet you all on this Independence Day   Toda\"| __truncated__ ...\n"
     ]
    }
   ],
   "source": [
    "#removing numbers using regex \\\\d\n",
    "c1.4=gsub(pattern=\"\\\\d\", replace=\" \" , c1.3)\n",
    "str(c1.4)\n"
   ]
  },
  {
   "cell_type": "code",
   "execution_count": 7,
   "metadata": {},
   "outputs": [
    {
     "name": "stdout",
     "output_type": "stream",
     "text": [
      " chr [1:3] \"my dear fellow citizens   brothers  sisters and dear children   i greet you all on this independence day   toda\"| __truncated__ ...\n"
     ]
    }
   ],
   "source": [
    "#making all letters in small case so that we don't have to remove stopwords case wise\n",
    "c1.5=tolower(c1.4)\n",
    "str(c1.5)\n"
   ]
  },
  {
   "cell_type": "code",
   "execution_count": 8,
   "metadata": {},
   "outputs": [
    {
     "data": {
      "text/html": [
       "<ol class=list-inline>\n",
       "\t<li>'i'</li>\n",
       "\t<li>'me'</li>\n",
       "\t<li>'my'</li>\n",
       "\t<li>'myself'</li>\n",
       "\t<li>'we'</li>\n",
       "\t<li>'our'</li>\n",
       "\t<li>'ours'</li>\n",
       "\t<li>'ourselves'</li>\n",
       "\t<li>'you'</li>\n",
       "\t<li>'your'</li>\n",
       "\t<li>'yours'</li>\n",
       "\t<li>'yourself'</li>\n",
       "\t<li>'yourselves'</li>\n",
       "\t<li>'he'</li>\n",
       "\t<li>'him'</li>\n",
       "\t<li>'his'</li>\n",
       "\t<li>'himself'</li>\n",
       "\t<li>'she'</li>\n",
       "\t<li>'her'</li>\n",
       "\t<li>'hers'</li>\n",
       "\t<li>'herself'</li>\n",
       "\t<li>'it'</li>\n",
       "\t<li>'its'</li>\n",
       "\t<li>'itself'</li>\n",
       "\t<li>'they'</li>\n",
       "\t<li>'them'</li>\n",
       "\t<li>'their'</li>\n",
       "\t<li>'theirs'</li>\n",
       "\t<li>'themselves'</li>\n",
       "\t<li>'what'</li>\n",
       "\t<li>'which'</li>\n",
       "\t<li>'who'</li>\n",
       "\t<li>'whom'</li>\n",
       "\t<li>'this'</li>\n",
       "\t<li>'that'</li>\n",
       "\t<li>'these'</li>\n",
       "\t<li>'those'</li>\n",
       "\t<li>'am'</li>\n",
       "\t<li>'is'</li>\n",
       "\t<li>'are'</li>\n",
       "\t<li>'was'</li>\n",
       "\t<li>'were'</li>\n",
       "\t<li>'be'</li>\n",
       "\t<li>'been'</li>\n",
       "\t<li>'being'</li>\n",
       "\t<li>'have'</li>\n",
       "\t<li>'has'</li>\n",
       "\t<li>'had'</li>\n",
       "\t<li>'having'</li>\n",
       "\t<li>'do'</li>\n",
       "\t<li>'does'</li>\n",
       "\t<li>'did'</li>\n",
       "\t<li>'doing'</li>\n",
       "\t<li>'would'</li>\n",
       "\t<li>'should'</li>\n",
       "\t<li>'could'</li>\n",
       "\t<li>'ought'</li>\n",
       "\t<li>'i\\'m'</li>\n",
       "\t<li>'you\\'re'</li>\n",
       "\t<li>'he\\'s'</li>\n",
       "\t<li>'she\\'s'</li>\n",
       "\t<li>'it\\'s'</li>\n",
       "\t<li>'we\\'re'</li>\n",
       "\t<li>'they\\'re'</li>\n",
       "\t<li>'i\\'ve'</li>\n",
       "\t<li>'you\\'ve'</li>\n",
       "\t<li>'we\\'ve'</li>\n",
       "\t<li>'they\\'ve'</li>\n",
       "\t<li>'i\\'d'</li>\n",
       "\t<li>'you\\'d'</li>\n",
       "\t<li>'he\\'d'</li>\n",
       "\t<li>'she\\'d'</li>\n",
       "\t<li>'we\\'d'</li>\n",
       "\t<li>'they\\'d'</li>\n",
       "\t<li>'i\\'ll'</li>\n",
       "\t<li>'you\\'ll'</li>\n",
       "\t<li>'he\\'ll'</li>\n",
       "\t<li>'she\\'ll'</li>\n",
       "\t<li>'we\\'ll'</li>\n",
       "\t<li>'they\\'ll'</li>\n",
       "\t<li>'isn\\'t'</li>\n",
       "\t<li>'aren\\'t'</li>\n",
       "\t<li>'wasn\\'t'</li>\n",
       "\t<li>'weren\\'t'</li>\n",
       "\t<li>'hasn\\'t'</li>\n",
       "\t<li>'haven\\'t'</li>\n",
       "\t<li>'hadn\\'t'</li>\n",
       "\t<li>'doesn\\'t'</li>\n",
       "\t<li>'don\\'t'</li>\n",
       "\t<li>'didn\\'t'</li>\n",
       "\t<li>'won\\'t'</li>\n",
       "\t<li>'wouldn\\'t'</li>\n",
       "\t<li>'shan\\'t'</li>\n",
       "\t<li>'shouldn\\'t'</li>\n",
       "\t<li>'can\\'t'</li>\n",
       "\t<li>'cannot'</li>\n",
       "\t<li>'couldn\\'t'</li>\n",
       "\t<li>'mustn\\'t'</li>\n",
       "\t<li>'let\\'s'</li>\n",
       "\t<li>'that\\'s'</li>\n",
       "\t<li>'who\\'s'</li>\n",
       "\t<li>'what\\'s'</li>\n",
       "\t<li>'here\\'s'</li>\n",
       "\t<li>'there\\'s'</li>\n",
       "\t<li>'when\\'s'</li>\n",
       "\t<li>'where\\'s'</li>\n",
       "\t<li>'why\\'s'</li>\n",
       "\t<li>'how\\'s'</li>\n",
       "\t<li>'a'</li>\n",
       "\t<li>'an'</li>\n",
       "\t<li>'the'</li>\n",
       "\t<li>'and'</li>\n",
       "\t<li>'but'</li>\n",
       "\t<li>'if'</li>\n",
       "\t<li>'or'</li>\n",
       "\t<li>'because'</li>\n",
       "\t<li>'as'</li>\n",
       "\t<li>'until'</li>\n",
       "\t<li>'while'</li>\n",
       "\t<li>'of'</li>\n",
       "\t<li>'at'</li>\n",
       "\t<li>'by'</li>\n",
       "\t<li>'for'</li>\n",
       "\t<li>'with'</li>\n",
       "\t<li>'about'</li>\n",
       "\t<li>'against'</li>\n",
       "\t<li>'between'</li>\n",
       "\t<li>'into'</li>\n",
       "\t<li>'through'</li>\n",
       "\t<li>'during'</li>\n",
       "\t<li>'before'</li>\n",
       "\t<li>'after'</li>\n",
       "\t<li>'above'</li>\n",
       "\t<li>'below'</li>\n",
       "\t<li>'to'</li>\n",
       "\t<li>'from'</li>\n",
       "\t<li>'up'</li>\n",
       "\t<li>'down'</li>\n",
       "\t<li>'in'</li>\n",
       "\t<li>'out'</li>\n",
       "\t<li>'on'</li>\n",
       "\t<li>'off'</li>\n",
       "\t<li>'over'</li>\n",
       "\t<li>'under'</li>\n",
       "\t<li>'again'</li>\n",
       "\t<li>'further'</li>\n",
       "\t<li>'then'</li>\n",
       "\t<li>'once'</li>\n",
       "\t<li>'here'</li>\n",
       "\t<li>'there'</li>\n",
       "\t<li>'when'</li>\n",
       "\t<li>'where'</li>\n",
       "\t<li>'why'</li>\n",
       "\t<li>'how'</li>\n",
       "\t<li>'all'</li>\n",
       "\t<li>'any'</li>\n",
       "\t<li>'both'</li>\n",
       "\t<li>'each'</li>\n",
       "\t<li>'few'</li>\n",
       "\t<li>'more'</li>\n",
       "\t<li>'most'</li>\n",
       "\t<li>'other'</li>\n",
       "\t<li>'some'</li>\n",
       "\t<li>'such'</li>\n",
       "\t<li>'no'</li>\n",
       "\t<li>'nor'</li>\n",
       "\t<li>'not'</li>\n",
       "\t<li>'only'</li>\n",
       "\t<li>'own'</li>\n",
       "\t<li>'same'</li>\n",
       "\t<li>'so'</li>\n",
       "\t<li>'than'</li>\n",
       "\t<li>'too'</li>\n",
       "\t<li>'very'</li>\n",
       "</ol>\n"
      ],
      "text/latex": [
       "\\begin{enumerate*}\n",
       "\\item 'i'\n",
       "\\item 'me'\n",
       "\\item 'my'\n",
       "\\item 'myself'\n",
       "\\item 'we'\n",
       "\\item 'our'\n",
       "\\item 'ours'\n",
       "\\item 'ourselves'\n",
       "\\item 'you'\n",
       "\\item 'your'\n",
       "\\item 'yours'\n",
       "\\item 'yourself'\n",
       "\\item 'yourselves'\n",
       "\\item 'he'\n",
       "\\item 'him'\n",
       "\\item 'his'\n",
       "\\item 'himself'\n",
       "\\item 'she'\n",
       "\\item 'her'\n",
       "\\item 'hers'\n",
       "\\item 'herself'\n",
       "\\item 'it'\n",
       "\\item 'its'\n",
       "\\item 'itself'\n",
       "\\item 'they'\n",
       "\\item 'them'\n",
       "\\item 'their'\n",
       "\\item 'theirs'\n",
       "\\item 'themselves'\n",
       "\\item 'what'\n",
       "\\item 'which'\n",
       "\\item 'who'\n",
       "\\item 'whom'\n",
       "\\item 'this'\n",
       "\\item 'that'\n",
       "\\item 'these'\n",
       "\\item 'those'\n",
       "\\item 'am'\n",
       "\\item 'is'\n",
       "\\item 'are'\n",
       "\\item 'was'\n",
       "\\item 'were'\n",
       "\\item 'be'\n",
       "\\item 'been'\n",
       "\\item 'being'\n",
       "\\item 'have'\n",
       "\\item 'has'\n",
       "\\item 'had'\n",
       "\\item 'having'\n",
       "\\item 'do'\n",
       "\\item 'does'\n",
       "\\item 'did'\n",
       "\\item 'doing'\n",
       "\\item 'would'\n",
       "\\item 'should'\n",
       "\\item 'could'\n",
       "\\item 'ought'\n",
       "\\item 'i\\textbackslash{}'m'\n",
       "\\item 'you\\textbackslash{}'re'\n",
       "\\item 'he\\textbackslash{}'s'\n",
       "\\item 'she\\textbackslash{}'s'\n",
       "\\item 'it\\textbackslash{}'s'\n",
       "\\item 'we\\textbackslash{}'re'\n",
       "\\item 'they\\textbackslash{}'re'\n",
       "\\item 'i\\textbackslash{}'ve'\n",
       "\\item 'you\\textbackslash{}'ve'\n",
       "\\item 'we\\textbackslash{}'ve'\n",
       "\\item 'they\\textbackslash{}'ve'\n",
       "\\item 'i\\textbackslash{}'d'\n",
       "\\item 'you\\textbackslash{}'d'\n",
       "\\item 'he\\textbackslash{}'d'\n",
       "\\item 'she\\textbackslash{}'d'\n",
       "\\item 'we\\textbackslash{}'d'\n",
       "\\item 'they\\textbackslash{}'d'\n",
       "\\item 'i\\textbackslash{}'ll'\n",
       "\\item 'you\\textbackslash{}'ll'\n",
       "\\item 'he\\textbackslash{}'ll'\n",
       "\\item 'she\\textbackslash{}'ll'\n",
       "\\item 'we\\textbackslash{}'ll'\n",
       "\\item 'they\\textbackslash{}'ll'\n",
       "\\item 'isn\\textbackslash{}'t'\n",
       "\\item 'aren\\textbackslash{}'t'\n",
       "\\item 'wasn\\textbackslash{}'t'\n",
       "\\item 'weren\\textbackslash{}'t'\n",
       "\\item 'hasn\\textbackslash{}'t'\n",
       "\\item 'haven\\textbackslash{}'t'\n",
       "\\item 'hadn\\textbackslash{}'t'\n",
       "\\item 'doesn\\textbackslash{}'t'\n",
       "\\item 'don\\textbackslash{}'t'\n",
       "\\item 'didn\\textbackslash{}'t'\n",
       "\\item 'won\\textbackslash{}'t'\n",
       "\\item 'wouldn\\textbackslash{}'t'\n",
       "\\item 'shan\\textbackslash{}'t'\n",
       "\\item 'shouldn\\textbackslash{}'t'\n",
       "\\item 'can\\textbackslash{}'t'\n",
       "\\item 'cannot'\n",
       "\\item 'couldn\\textbackslash{}'t'\n",
       "\\item 'mustn\\textbackslash{}'t'\n",
       "\\item 'let\\textbackslash{}'s'\n",
       "\\item 'that\\textbackslash{}'s'\n",
       "\\item 'who\\textbackslash{}'s'\n",
       "\\item 'what\\textbackslash{}'s'\n",
       "\\item 'here\\textbackslash{}'s'\n",
       "\\item 'there\\textbackslash{}'s'\n",
       "\\item 'when\\textbackslash{}'s'\n",
       "\\item 'where\\textbackslash{}'s'\n",
       "\\item 'why\\textbackslash{}'s'\n",
       "\\item 'how\\textbackslash{}'s'\n",
       "\\item 'a'\n",
       "\\item 'an'\n",
       "\\item 'the'\n",
       "\\item 'and'\n",
       "\\item 'but'\n",
       "\\item 'if'\n",
       "\\item 'or'\n",
       "\\item 'because'\n",
       "\\item 'as'\n",
       "\\item 'until'\n",
       "\\item 'while'\n",
       "\\item 'of'\n",
       "\\item 'at'\n",
       "\\item 'by'\n",
       "\\item 'for'\n",
       "\\item 'with'\n",
       "\\item 'about'\n",
       "\\item 'against'\n",
       "\\item 'between'\n",
       "\\item 'into'\n",
       "\\item 'through'\n",
       "\\item 'during'\n",
       "\\item 'before'\n",
       "\\item 'after'\n",
       "\\item 'above'\n",
       "\\item 'below'\n",
       "\\item 'to'\n",
       "\\item 'from'\n",
       "\\item 'up'\n",
       "\\item 'down'\n",
       "\\item 'in'\n",
       "\\item 'out'\n",
       "\\item 'on'\n",
       "\\item 'off'\n",
       "\\item 'over'\n",
       "\\item 'under'\n",
       "\\item 'again'\n",
       "\\item 'further'\n",
       "\\item 'then'\n",
       "\\item 'once'\n",
       "\\item 'here'\n",
       "\\item 'there'\n",
       "\\item 'when'\n",
       "\\item 'where'\n",
       "\\item 'why'\n",
       "\\item 'how'\n",
       "\\item 'all'\n",
       "\\item 'any'\n",
       "\\item 'both'\n",
       "\\item 'each'\n",
       "\\item 'few'\n",
       "\\item 'more'\n",
       "\\item 'most'\n",
       "\\item 'other'\n",
       "\\item 'some'\n",
       "\\item 'such'\n",
       "\\item 'no'\n",
       "\\item 'nor'\n",
       "\\item 'not'\n",
       "\\item 'only'\n",
       "\\item 'own'\n",
       "\\item 'same'\n",
       "\\item 'so'\n",
       "\\item 'than'\n",
       "\\item 'too'\n",
       "\\item 'very'\n",
       "\\end{enumerate*}\n"
      ],
      "text/markdown": [
       "1. 'i'\n",
       "2. 'me'\n",
       "3. 'my'\n",
       "4. 'myself'\n",
       "5. 'we'\n",
       "6. 'our'\n",
       "7. 'ours'\n",
       "8. 'ourselves'\n",
       "9. 'you'\n",
       "10. 'your'\n",
       "11. 'yours'\n",
       "12. 'yourself'\n",
       "13. 'yourselves'\n",
       "14. 'he'\n",
       "15. 'him'\n",
       "16. 'his'\n",
       "17. 'himself'\n",
       "18. 'she'\n",
       "19. 'her'\n",
       "20. 'hers'\n",
       "21. 'herself'\n",
       "22. 'it'\n",
       "23. 'its'\n",
       "24. 'itself'\n",
       "25. 'they'\n",
       "26. 'them'\n",
       "27. 'their'\n",
       "28. 'theirs'\n",
       "29. 'themselves'\n",
       "30. 'what'\n",
       "31. 'which'\n",
       "32. 'who'\n",
       "33. 'whom'\n",
       "34. 'this'\n",
       "35. 'that'\n",
       "36. 'these'\n",
       "37. 'those'\n",
       "38. 'am'\n",
       "39. 'is'\n",
       "40. 'are'\n",
       "41. 'was'\n",
       "42. 'were'\n",
       "43. 'be'\n",
       "44. 'been'\n",
       "45. 'being'\n",
       "46. 'have'\n",
       "47. 'has'\n",
       "48. 'had'\n",
       "49. 'having'\n",
       "50. 'do'\n",
       "51. 'does'\n",
       "52. 'did'\n",
       "53. 'doing'\n",
       "54. 'would'\n",
       "55. 'should'\n",
       "56. 'could'\n",
       "57. 'ought'\n",
       "58. 'i\\'m'\n",
       "59. 'you\\'re'\n",
       "60. 'he\\'s'\n",
       "61. 'she\\'s'\n",
       "62. 'it\\'s'\n",
       "63. 'we\\'re'\n",
       "64. 'they\\'re'\n",
       "65. 'i\\'ve'\n",
       "66. 'you\\'ve'\n",
       "67. 'we\\'ve'\n",
       "68. 'they\\'ve'\n",
       "69. 'i\\'d'\n",
       "70. 'you\\'d'\n",
       "71. 'he\\'d'\n",
       "72. 'she\\'d'\n",
       "73. 'we\\'d'\n",
       "74. 'they\\'d'\n",
       "75. 'i\\'ll'\n",
       "76. 'you\\'ll'\n",
       "77. 'he\\'ll'\n",
       "78. 'she\\'ll'\n",
       "79. 'we\\'ll'\n",
       "80. 'they\\'ll'\n",
       "81. 'isn\\'t'\n",
       "82. 'aren\\'t'\n",
       "83. 'wasn\\'t'\n",
       "84. 'weren\\'t'\n",
       "85. 'hasn\\'t'\n",
       "86. 'haven\\'t'\n",
       "87. 'hadn\\'t'\n",
       "88. 'doesn\\'t'\n",
       "89. 'don\\'t'\n",
       "90. 'didn\\'t'\n",
       "91. 'won\\'t'\n",
       "92. 'wouldn\\'t'\n",
       "93. 'shan\\'t'\n",
       "94. 'shouldn\\'t'\n",
       "95. 'can\\'t'\n",
       "96. 'cannot'\n",
       "97. 'couldn\\'t'\n",
       "98. 'mustn\\'t'\n",
       "99. 'let\\'s'\n",
       "100. 'that\\'s'\n",
       "101. 'who\\'s'\n",
       "102. 'what\\'s'\n",
       "103. 'here\\'s'\n",
       "104. 'there\\'s'\n",
       "105. 'when\\'s'\n",
       "106. 'where\\'s'\n",
       "107. 'why\\'s'\n",
       "108. 'how\\'s'\n",
       "109. 'a'\n",
       "110. 'an'\n",
       "111. 'the'\n",
       "112. 'and'\n",
       "113. 'but'\n",
       "114. 'if'\n",
       "115. 'or'\n",
       "116. 'because'\n",
       "117. 'as'\n",
       "118. 'until'\n",
       "119. 'while'\n",
       "120. 'of'\n",
       "121. 'at'\n",
       "122. 'by'\n",
       "123. 'for'\n",
       "124. 'with'\n",
       "125. 'about'\n",
       "126. 'against'\n",
       "127. 'between'\n",
       "128. 'into'\n",
       "129. 'through'\n",
       "130. 'during'\n",
       "131. 'before'\n",
       "132. 'after'\n",
       "133. 'above'\n",
       "134. 'below'\n",
       "135. 'to'\n",
       "136. 'from'\n",
       "137. 'up'\n",
       "138. 'down'\n",
       "139. 'in'\n",
       "140. 'out'\n",
       "141. 'on'\n",
       "142. 'off'\n",
       "143. 'over'\n",
       "144. 'under'\n",
       "145. 'again'\n",
       "146. 'further'\n",
       "147. 'then'\n",
       "148. 'once'\n",
       "149. 'here'\n",
       "150. 'there'\n",
       "151. 'when'\n",
       "152. 'where'\n",
       "153. 'why'\n",
       "154. 'how'\n",
       "155. 'all'\n",
       "156. 'any'\n",
       "157. 'both'\n",
       "158. 'each'\n",
       "159. 'few'\n",
       "160. 'more'\n",
       "161. 'most'\n",
       "162. 'other'\n",
       "163. 'some'\n",
       "164. 'such'\n",
       "165. 'no'\n",
       "166. 'nor'\n",
       "167. 'not'\n",
       "168. 'only'\n",
       "169. 'own'\n",
       "170. 'same'\n",
       "171. 'so'\n",
       "172. 'than'\n",
       "173. 'too'\n",
       "174. 'very'\n",
       "\n",
       "\n"
      ],
      "text/plain": [
       "  [1] \"i\"          \"me\"         \"my\"         \"myself\"     \"we\"        \n",
       "  [6] \"our\"        \"ours\"       \"ourselves\"  \"you\"        \"your\"      \n",
       " [11] \"yours\"      \"yourself\"   \"yourselves\" \"he\"         \"him\"       \n",
       " [16] \"his\"        \"himself\"    \"she\"        \"her\"        \"hers\"      \n",
       " [21] \"herself\"    \"it\"         \"its\"        \"itself\"     \"they\"      \n",
       " [26] \"them\"       \"their\"      \"theirs\"     \"themselves\" \"what\"      \n",
       " [31] \"which\"      \"who\"        \"whom\"       \"this\"       \"that\"      \n",
       " [36] \"these\"      \"those\"      \"am\"         \"is\"         \"are\"       \n",
       " [41] \"was\"        \"were\"       \"be\"         \"been\"       \"being\"     \n",
       " [46] \"have\"       \"has\"        \"had\"        \"having\"     \"do\"        \n",
       " [51] \"does\"       \"did\"        \"doing\"      \"would\"      \"should\"    \n",
       " [56] \"could\"      \"ought\"      \"i'm\"        \"you're\"     \"he's\"      \n",
       " [61] \"she's\"      \"it's\"       \"we're\"      \"they're\"    \"i've\"      \n",
       " [66] \"you've\"     \"we've\"      \"they've\"    \"i'd\"        \"you'd\"     \n",
       " [71] \"he'd\"       \"she'd\"      \"we'd\"       \"they'd\"     \"i'll\"      \n",
       " [76] \"you'll\"     \"he'll\"      \"she'll\"     \"we'll\"      \"they'll\"   \n",
       " [81] \"isn't\"      \"aren't\"     \"wasn't\"     \"weren't\"    \"hasn't\"    \n",
       " [86] \"haven't\"    \"hadn't\"     \"doesn't\"    \"don't\"      \"didn't\"    \n",
       " [91] \"won't\"      \"wouldn't\"   \"shan't\"     \"shouldn't\"  \"can't\"     \n",
       " [96] \"cannot\"     \"couldn't\"   \"mustn't\"    \"let's\"      \"that's\"    \n",
       "[101] \"who's\"      \"what's\"     \"here's\"     \"there's\"    \"when's\"    \n",
       "[106] \"where's\"    \"why's\"      \"how's\"      \"a\"          \"an\"        \n",
       "[111] \"the\"        \"and\"        \"but\"        \"if\"         \"or\"        \n",
       "[116] \"because\"    \"as\"         \"until\"      \"while\"      \"of\"        \n",
       "[121] \"at\"         \"by\"         \"for\"        \"with\"       \"about\"     \n",
       "[126] \"against\"    \"between\"    \"into\"       \"through\"    \"during\"    \n",
       "[131] \"before\"     \"after\"      \"above\"      \"below\"      \"to\"        \n",
       "[136] \"from\"       \"up\"         \"down\"       \"in\"         \"out\"       \n",
       "[141] \"on\"         \"off\"        \"over\"       \"under\"      \"again\"     \n",
       "[146] \"further\"    \"then\"       \"once\"       \"here\"       \"there\"     \n",
       "[151] \"when\"       \"where\"      \"why\"        \"how\"        \"all\"       \n",
       "[156] \"any\"        \"both\"       \"each\"       \"few\"        \"more\"      \n",
       "[161] \"most\"       \"other\"      \"some\"       \"such\"       \"no\"        \n",
       "[166] \"nor\"        \"not\"        \"only\"       \"own\"        \"same\"      \n",
       "[171] \"so\"         \"than\"       \"too\"        \"very\"      "
      ]
     },
     "metadata": {},
     "output_type": "display_data"
    }
   ],
   "source": [
    "stopwords()"
   ]
  },
  {
   "cell_type": "code",
   "execution_count": 9,
   "metadata": {},
   "outputs": [
    {
     "name": "stdout",
     "output_type": "stream",
     "text": [
      " chr [1:3] \" dear fellow citizens   brothers  sisters  dear children    greet     independence day   today  certainly  day \"| __truncated__ ...\n"
     ]
    }
   ],
   "source": [
    "#remove stopwords\n",
    "c1.6=removeWords(c1.5, stopwords())\n",
    "str(c1.6)\n"
   ]
  },
  {
   "cell_type": "code",
   "execution_count": 10,
   "metadata": {},
   "outputs": [
    {
     "name": "stdout",
     "output_type": "stream",
     "text": [
      " chr [1:3] \" dear fellow citizens   brothers  sisters  dear children    greet         today  certainly    joy  us     celeb\"| __truncated__ ...\n"
     ]
    }
   ],
   "source": [
    "#making a vector of document specific stopwords sw\n",
    "sw2=c('india','indian','independence','day')\n",
    "c1.7=removeWords(c1.6, sw2)\n",
    "str(c1.7)\n"
   ]
  },
  {
   "cell_type": "code",
   "execution_count": 12,
   "metadata": {},
   "outputs": [
    {
     "name": "stdout",
     "output_type": "stream",
     "text": [
      " chr [1:3] \" dear fellow citizens   brothers  sisters  dear children    greet         today  certainly    joy  us     celeb\"| __truncated__ ...\n"
     ]
    }
   ],
   "source": [
    "#removing the residual 1 character words\n",
    "c1.8=gsub(pattern=\"\\\\b[A-z]\\\\b{1}\", replace=\" \" , c1.7)\n",
    "str(c1.8)"
   ]
  },
  {
   "cell_type": "code",
   "execution_count": 13,
   "metadata": {},
   "outputs": [
    {
     "name": "stdout",
     "output_type": "stream",
     "text": [
      " chr [1:3] \" dear fellow citizens brothers sisters dear children greet today certainly joy us celebration also feel pain he\"| __truncated__ ...\n"
     ]
    }
   ],
   "source": [
    "#remove all residual white space\n",
    "c1.9=stripWhitespace(c1.8)\n",
    "str(c1.9)"
   ]
  },
  {
   "cell_type": "code",
   "execution_count": 14,
   "metadata": {},
   "outputs": [],
   "source": [
    "#import stringr \n",
    "library(stringr)\n"
   ]
  },
  {
   "cell_type": "code",
   "execution_count": 15,
   "metadata": {},
   "outputs": [
    {
     "name": "stdout",
     "output_type": "stream",
     "text": [
      "List of 3\n",
      " $ : chr [1:1571] \"\" \"dear\" \"fellow\" \"citizens\" ...\n",
      " $ : chr [1:3520] \"\" \"dear\" \"countrymen\" \"today\" ...\n",
      " $ : chr [1:2808] \"\" \"dear\" \"fellow\" \"citizens\" ...\n"
     ]
    }
   ],
   "source": [
    "#cbw is corpus bag of words\n",
    "cbw=str_split(c1.9, pattern=\"\\\\s+\")\n",
    "str(cbw)\n"
   ]
  },
  {
   "cell_type": "code",
   "execution_count": 17,
   "metadata": {},
   "outputs": [
    {
     "name": "stderr",
     "output_type": "stream",
     "text": [
      "Loading required package: RColorBrewer\n"
     ]
    },
    {
     "data": {
      "image/png": "[encoded data removed]",
      "text/plain": [
       "plot without title"
      ]
     },
     "metadata": {},
     "output_type": "display_data"
    }
   ],
   "source": [
    "library(wordcloud)\n",
    "#creating a wordcloud\n",
    "#cbw is a list but wordcloud function takes a vector, thus use elements of list c1.9\n",
    "wordcloud(c1.9[1], random.order=F)"
   ]
  },
  {
   "cell_type": "markdown",
   "metadata": {},
   "source": [
    "## 2013 PM Speech"
   ]
  },
  {
   "cell_type": "code",
   "execution_count": 18,
   "metadata": {},
   "outputs": [
    {
     "data": {
      "image/png": "[encoded data removed]",
      "text/plain": [
       "plot without title"
      ]
     },
     "metadata": {},
     "output_type": "display_data"
    }
   ],
   "source": [
    "wordcloud(c1.9[2], random.order=F)"
   ]
  },
  {
   "cell_type": "markdown",
   "metadata": {},
   "source": [
    "## 2015 PM Speech"
   ]
  },
  {
   "cell_type": "code",
   "execution_count": 19,
   "metadata": {},
   "outputs": [
    {
     "data": {
      "image/png": "[encoded data removed]",
      "text/plain": [
       "plot without title"
      ]
     },
     "metadata": {},
     "output_type": "display_data"
    }
   ],
   "source": [
    "wordcloud(c1.9[3], random.order=F)"
   ]
  },
  {
   "cell_type": "markdown",
   "metadata": {},
   "source": [
    "## 2017 PM Speech"
   ]
  },
  {
   "cell_type": "markdown",
   "metadata": {},
   "source": [
    "### 1. Thus it is apparent that PM Modi's speech of 2017 is very similar to PM Manmohan speech of 2013, both having 'will' as the most frequent word and thus hinting at many promises being made."
   ]
  },
  {
   "cell_type": "markdown",
   "metadata": {},
   "source": [
    "### 2. Both Modi speech of 2015 and 2017 had 'sisters' more than 'brothers', unlike 2013 speech of Manmohan, thus hinting at more frequent addressing of women\n",
    "### 3. 2013 speech talked more frequently about children, education, economy\n",
    "### 4. 2015 speech mentioned people, countrymen, government\n",
    "### 5. 2017 speech talked about terrorism, employment, poor, domonetization,\n",
    "### 6. Both 2015 and 2017 speech very similar, as they contain words like country, will, government, people, brothers, sisters"
   ]
  },
  {
   "cell_type": "markdown",
   "metadata": {},
   "source": []
  },
  {
   "cell_type": "code",
   "execution_count": null,
   "metadata": {},
   "outputs": [],
   "source": []
  }
 ],
 "metadata": {
  "kernelspec": {
   "display_name": "R",
   "language": "R",
   "name": "ir"
  },
  "language_info": {
   "codemirror_mode": "r",
   "file_extension": ".r",
   "mimetype": "text/x-r-source",
   "name": "R",
   "pygments_lexer": "r",
   "version": "3.4.3"
  }
 },
 "nbformat": 4,
 "nbformat_minor": 2
}
